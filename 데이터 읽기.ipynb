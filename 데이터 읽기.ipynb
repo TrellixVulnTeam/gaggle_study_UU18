{
 "cells": [
  {
   "cell_type": "code",
   "execution_count": 9,
   "metadata": {},
   "outputs": [],
   "source": [
    "import pandas as pd"
   ]
  },
  {
   "cell_type": "code",
   "execution_count": 10,
   "metadata": {},
   "outputs": [],
   "source": [
    "df = pd.read_csv(\"../../data/earthquake/train.csv\")"
   ]
  },
  {
   "cell_type": "code",
   "execution_count": 11,
   "metadata": {},
   "outputs": [
    {
     "data": {
      "text/plain": [
       "(629145480, 2)"
      ]
     },
     "execution_count": 11,
     "metadata": {},
     "output_type": "execute_result"
    }
   ],
   "source": [
    "df.shape"
   ]
  },
  {
   "cell_type": "code",
   "execution_count": 12,
   "metadata": {},
   "outputs": [
    {
     "data": {
      "text/html": [
       "<div>\n",
       "<style scoped>\n",
       "    .dataframe tbody tr th:only-of-type {\n",
       "        vertical-align: middle;\n",
       "    }\n",
       "\n",
       "    .dataframe tbody tr th {\n",
       "        vertical-align: top;\n",
       "    }\n",
       "\n",
       "    .dataframe thead th {\n",
       "        text-align: right;\n",
       "    }\n",
       "</style>\n",
       "<table border=\"1\" class=\"dataframe\">\n",
       "  <thead>\n",
       "    <tr style=\"text-align: right;\">\n",
       "      <th></th>\n",
       "      <th>acoustic_data</th>\n",
       "      <th>time_to_failure</th>\n",
       "    </tr>\n",
       "  </thead>\n",
       "  <tbody>\n",
       "    <tr>\n",
       "      <th>0</th>\n",
       "      <td>12</td>\n",
       "      <td>1.4691</td>\n",
       "    </tr>\n",
       "    <tr>\n",
       "      <th>1</th>\n",
       "      <td>6</td>\n",
       "      <td>1.4691</td>\n",
       "    </tr>\n",
       "    <tr>\n",
       "      <th>2</th>\n",
       "      <td>8</td>\n",
       "      <td>1.4691</td>\n",
       "    </tr>\n",
       "    <tr>\n",
       "      <th>3</th>\n",
       "      <td>5</td>\n",
       "      <td>1.4691</td>\n",
       "    </tr>\n",
       "    <tr>\n",
       "      <th>4</th>\n",
       "      <td>8</td>\n",
       "      <td>1.4691</td>\n",
       "    </tr>\n",
       "  </tbody>\n",
       "</table>\n",
       "</div>"
      ],
      "text/plain": [
       "   acoustic_data  time_to_failure\n",
       "0             12           1.4691\n",
       "1              6           1.4691\n",
       "2              8           1.4691\n",
       "3              5           1.4691\n",
       "4              8           1.4691"
      ]
     },
     "execution_count": 12,
     "metadata": {},
     "output_type": "execute_result"
    }
   ],
   "source": [
    "df.head()"
   ]
  },
  {
   "cell_type": "code",
   "execution_count": 13,
   "metadata": {},
   "outputs": [
    {
     "data": {
      "text/html": [
       "<div>\n",
       "<style scoped>\n",
       "    .dataframe tbody tr th:only-of-type {\n",
       "        vertical-align: middle;\n",
       "    }\n",
       "\n",
       "    .dataframe tbody tr th {\n",
       "        vertical-align: top;\n",
       "    }\n",
       "\n",
       "    .dataframe thead th {\n",
       "        text-align: right;\n",
       "    }\n",
       "</style>\n",
       "<table border=\"1\" class=\"dataframe\">\n",
       "  <thead>\n",
       "    <tr style=\"text-align: right;\">\n",
       "      <th></th>\n",
       "      <th>acoustic_data</th>\n",
       "      <th>time_to_failure</th>\n",
       "    </tr>\n",
       "  </thead>\n",
       "  <tbody>\n",
       "    <tr>\n",
       "      <th>629145475</th>\n",
       "      <td>7</td>\n",
       "      <td>9.759796</td>\n",
       "    </tr>\n",
       "    <tr>\n",
       "      <th>629145476</th>\n",
       "      <td>9</td>\n",
       "      <td>9.759796</td>\n",
       "    </tr>\n",
       "    <tr>\n",
       "      <th>629145477</th>\n",
       "      <td>10</td>\n",
       "      <td>9.759796</td>\n",
       "    </tr>\n",
       "    <tr>\n",
       "      <th>629145478</th>\n",
       "      <td>6</td>\n",
       "      <td>9.759796</td>\n",
       "    </tr>\n",
       "    <tr>\n",
       "      <th>629145479</th>\n",
       "      <td>5</td>\n",
       "      <td>9.759796</td>\n",
       "    </tr>\n",
       "  </tbody>\n",
       "</table>\n",
       "</div>"
      ],
      "text/plain": [
       "           acoustic_data  time_to_failure\n",
       "629145475              7         9.759796\n",
       "629145476              9         9.759796\n",
       "629145477             10         9.759796\n",
       "629145478              6         9.759796\n",
       "629145479              5         9.759796"
      ]
     },
     "execution_count": 13,
     "metadata": {},
     "output_type": "execute_result"
    }
   ],
   "source": [
    "df.tail()"
   ]
  },
  {
   "cell_type": "code",
   "execution_count": 14,
   "metadata": {},
   "outputs": [
    {
     "name": "stdout",
     "output_type": "stream",
     "text": [
      "<class 'pandas.core.frame.DataFrame'>\n",
      "RangeIndex: 629145480 entries, 0 to 629145479\n",
      "Data columns (total 2 columns):\n",
      "acoustic_data      int64\n",
      "time_to_failure    float64\n",
      "dtypes: float64(1), int64(1)\n",
      "memory usage: 9.4 GB\n"
     ]
    }
   ],
   "source": [
    "df.info()"
   ]
  },
  {
   "cell_type": "code",
   "execution_count": 15,
   "metadata": {},
   "outputs": [],
   "source": [
    "df['acoustic_data'] = df['acoustic_data'].astype(np.int16)"
   ]
  },
  {
   "cell_type": "code",
   "execution_count": 16,
   "metadata": {},
   "outputs": [
    {
     "name": "stdout",
     "output_type": "stream",
     "text": [
      "<class 'pandas.core.frame.DataFrame'>\n",
      "RangeIndex: 629145480 entries, 0 to 629145479\n",
      "Data columns (total 2 columns):\n",
      "acoustic_data      int16\n",
      "time_to_failure    float64\n",
      "dtypes: float64(1), int16(1)\n",
      "memory usage: 5.9 GB\n"
     ]
    }
   ],
   "source": [
    "df.info()"
   ]
  },
  {
   "cell_type": "code",
   "execution_count": 17,
   "metadata": {},
   "outputs": [],
   "source": [
    "df['time_to_failure'] = df['time_to_failure'].astype(np.float32)"
   ]
  },
  {
   "cell_type": "code",
   "execution_count": 18,
   "metadata": {},
   "outputs": [
    {
     "name": "stdout",
     "output_type": "stream",
     "text": [
      "<class 'pandas.core.frame.DataFrame'>\n",
      "RangeIndex: 629145480 entries, 0 to 629145479\n",
      "Data columns (total 2 columns):\n",
      "acoustic_data      int16\n",
      "time_to_failure    float32\n",
      "dtypes: float32(1), int16(1)\n",
      "memory usage: 3.5 GB\n"
     ]
    }
   ],
   "source": [
    "df.info()"
   ]
  },
  {
   "cell_type": "code",
   "execution_count": 19,
   "metadata": {},
   "outputs": [
    {
     "data": {
      "text/plain": [
       " 5       73883469\n",
       " 4       73792388\n",
       " 6       66416269\n",
       " 3       66178259\n",
       " 7       53817385\n",
       " 2       53479819\n",
       " 8       39628883\n",
       " 1       39239437\n",
       " 9       26888462\n",
       " 0       26546708\n",
       " 10      17165621\n",
       "-1       16894290\n",
       " 11      10621810\n",
       "-2       10428808\n",
       " 12       6600287\n",
       "-3        6482315\n",
       " 13       4255544\n",
       "-4        4188559\n",
       " 14       2905946\n",
       "-5        2868438\n",
       " 15       2099604\n",
       "-6        2078817\n",
       " 16       1594038\n",
       "-7        1579570\n",
       " 17       1254956\n",
       "-8        1243410\n",
       " 18       1017033\n",
       "-9        1006442\n",
       " 19        837281\n",
       "-10        830470\n",
       "           ...   \n",
       " 2756           1\n",
       " 2757           1\n",
       " 2754           1\n",
       " 2755           1\n",
       " 2753           1\n",
       " 2747           1\n",
       " 2742           1\n",
       " 2740           1\n",
       " 2739           1\n",
       " 2737           1\n",
       " 2728           1\n",
       " 2770           1\n",
       " 2773           1\n",
       " 2772           1\n",
       " 2797           1\n",
       " 2811           1\n",
       " 2806           1\n",
       " 2805           1\n",
       " 2802           1\n",
       " 2801           1\n",
       " 2799           1\n",
       " 2794           1\n",
       " 2776           1\n",
       " 2793           1\n",
       " 2788           1\n",
       " 2787           1\n",
       " 2780           1\n",
       " 2781           1\n",
       " 2778           1\n",
       " 3869           1\n",
       "Name: acoustic_data, Length: 5354, dtype: int64"
      ]
     },
     "execution_count": 19,
     "metadata": {},
     "output_type": "execute_result"
    }
   ],
   "source": [
    "df['acoustic_data'].value_counts()"
   ]
  },
  {
   "cell_type": "code",
   "execution_count": 21,
   "metadata": {},
   "outputs": [],
   "source": [
    "%matplotlib inline"
   ]
  },
  {
   "cell_type": "code",
   "execution_count": 22,
   "metadata": {},
   "outputs": [
    {
     "data": {
      "text/plain": [
       "<matplotlib.axes._subplots.AxesSubplot at 0x25276b630>"
      ]
     },
     "execution_count": 22,
     "metadata": {},
     "output_type": "execute_result"
    },
    {
     "data": {
      "image/png": "[encoded data removed]",
      "text/plain": [
       "<Figure size 432x288 with 1 Axes>"
      ]
     },
     "metadata": {
      "needs_background": "light"
     },
     "output_type": "display_data"
    }
   ],
   "source": [
    "df['acoustic_data'].plot.hist()"
   ]
  },
  {
   "cell_type": "code",
   "execution_count": 26,
   "metadata": {},
   "outputs": [
    {
     "data": {
      "text/plain": [
       "137539787    5444\n",
       "137539788    5310\n",
       "137539786    5188\n",
       "186428205    5115\n",
       "186428206    4998\n",
       "620760385    4886\n",
       "137539789    4855\n",
       "620760386    4854\n",
       "186428204    4799\n",
       "103466995    4610\n",
       "137539596    4600\n",
       "103466996    4570\n",
       "620760384    4561\n",
       "137539785    4561\n",
       "186428207    4524\n",
       "137539597    4445\n",
       "620760387    4415\n",
       "137539595    4388\n",
       "103466994    4379\n",
       "244631298    4317\n",
       "Name: acoustic_data, dtype: int16"
      ]
     },
     "execution_count": 26,
     "metadata": {},
     "output_type": "execute_result"
    }
   ],
   "source": [
    "df['acoustic_data'].sort_values(ascending=False).head(20)"
   ]
  },
  {
   "cell_type": "code",
   "execution_count": 29,
   "metadata": {},
   "outputs": [
    {
     "data": {
      "text/plain": [
       "RangeIndex(start=0, stop=629145480, step=1)"
      ]
     },
     "execution_count": 29,
     "metadata": {},
     "output_type": "execute_result"
    }
   ],
   "source": [
    "df.acoustic_data.index"
   ]
  },
  {
   "cell_type": "code",
   "execution_count": 28,
   "metadata": {},
   "outputs": [
    {
     "data": {
      "text/plain": [
       "3"
      ]
     },
     "execution_count": 28,
     "metadata": {},
     "output_type": "execute_result"
    }
   ],
   "source": [
    "df.acoustic_data[629145450]"
   ]
  },
  {
   "cell_type": "code",
   "execution_count": 30,
   "metadata": {},
   "outputs": [],
   "source": [
    "df_temp = df.loc[2647200: 2647400, :]"
   ]
  },
  {
   "cell_type": "code",
   "execution_count": 31,
   "metadata": {},
   "outputs": [
    {
     "data": {
      "text/plain": [
       "(201, 2)"
      ]
     },
     "execution_count": 31,
     "metadata": {},
     "output_type": "execute_result"
    }
   ],
   "source": [
    "df_temp.shape"
   ]
  },
  {
   "cell_type": "code",
   "execution_count": 32,
   "metadata": {},
   "outputs": [
    {
     "data": {
      "text/html": [
       "<div>\n",
       "<style scoped>\n",
       "    .dataframe tbody tr th:only-of-type {\n",
       "        vertical-align: middle;\n",
       "    }\n",
       "\n",
       "    .dataframe tbody tr th {\n",
       "        vertical-align: top;\n",
       "    }\n",
       "\n",
       "    .dataframe thead th {\n",
       "        text-align: right;\n",
       "    }\n",
       "</style>\n",
       "<table border=\"1\" class=\"dataframe\">\n",
       "  <thead>\n",
       "    <tr style=\"text-align: right;\">\n",
       "      <th></th>\n",
       "      <th>acoustic_data</th>\n",
       "      <th>time_to_failure</th>\n",
       "    </tr>\n",
       "  </thead>\n",
       "  <tbody>\n",
       "    <tr>\n",
       "      <th>2647200</th>\n",
       "      <td>7</td>\n",
       "      <td>0.781799</td>\n",
       "    </tr>\n",
       "    <tr>\n",
       "      <th>2647201</th>\n",
       "      <td>10</td>\n",
       "      <td>0.781799</td>\n",
       "    </tr>\n",
       "    <tr>\n",
       "      <th>2647202</th>\n",
       "      <td>5</td>\n",
       "      <td>0.781799</td>\n",
       "    </tr>\n",
       "    <tr>\n",
       "      <th>2647203</th>\n",
       "      <td>5</td>\n",
       "      <td>0.781799</td>\n",
       "    </tr>\n",
       "    <tr>\n",
       "      <th>2647204</th>\n",
       "      <td>9</td>\n",
       "      <td>0.781799</td>\n",
       "    </tr>\n",
       "  </tbody>\n",
       "</table>\n",
       "</div>"
      ],
      "text/plain": [
       "         acoustic_data  time_to_failure\n",
       "2647200              7         0.781799\n",
       "2647201             10         0.781799\n",
       "2647202              5         0.781799\n",
       "2647203              5         0.781799\n",
       "2647204              9         0.781799"
      ]
     },
     "execution_count": 32,
     "metadata": {},
     "output_type": "execute_result"
    }
   ],
   "source": [
    "df_temp.head()"
   ]
  },
  {
   "cell_type": "code",
   "execution_count": 33,
   "metadata": {},
   "outputs": [
    {
     "data": {
      "text/html": [
       "<div>\n",
       "<style scoped>\n",
       "    .dataframe tbody tr th:only-of-type {\n",
       "        vertical-align: middle;\n",
       "    }\n",
       "\n",
       "    .dataframe tbody tr th {\n",
       "        vertical-align: top;\n",
       "    }\n",
       "\n",
       "    .dataframe thead th {\n",
       "        text-align: right;\n",
       "    }\n",
       "</style>\n",
       "<table border=\"1\" class=\"dataframe\">\n",
       "  <thead>\n",
       "    <tr style=\"text-align: right;\">\n",
       "      <th></th>\n",
       "      <th>acoustic_data</th>\n",
       "      <th>time_to_failure</th>\n",
       "    </tr>\n",
       "  </thead>\n",
       "  <tbody>\n",
       "    <tr>\n",
       "      <th>2647396</th>\n",
       "      <td>7</td>\n",
       "      <td>0.781798</td>\n",
       "    </tr>\n",
       "    <tr>\n",
       "      <th>2647397</th>\n",
       "      <td>6</td>\n",
       "      <td>0.781798</td>\n",
       "    </tr>\n",
       "    <tr>\n",
       "      <th>2647398</th>\n",
       "      <td>3</td>\n",
       "      <td>0.781798</td>\n",
       "    </tr>\n",
       "    <tr>\n",
       "      <th>2647399</th>\n",
       "      <td>1</td>\n",
       "      <td>0.781798</td>\n",
       "    </tr>\n",
       "    <tr>\n",
       "      <th>2647400</th>\n",
       "      <td>3</td>\n",
       "      <td>0.781798</td>\n",
       "    </tr>\n",
       "  </tbody>\n",
       "</table>\n",
       "</div>"
      ],
      "text/plain": [
       "         acoustic_data  time_to_failure\n",
       "2647396              7         0.781798\n",
       "2647397              6         0.781798\n",
       "2647398              3         0.781798\n",
       "2647399              1         0.781798\n",
       "2647400              3         0.781798"
      ]
     },
     "execution_count": 33,
     "metadata": {},
     "output_type": "execute_result"
    }
   ],
   "source": [
    "df_temp.tail()"
   ]
  },
  {
   "cell_type": "code",
   "execution_count": 35,
   "metadata": {},
   "outputs": [
    {
     "data": {
      "text/plain": [
       "acoustic_data      1.000000\n",
       "time_to_failure    0.781799\n",
       "Name: 2647247, dtype: float32"
      ]
     },
     "execution_count": 35,
     "metadata": {},
     "output_type": "execute_result"
    }
   ],
   "source": [
    "df_temp.loc[2647247]"
   ]
  },
  {
   "cell_type": "code",
   "execution_count": 36,
   "metadata": {},
   "outputs": [
    {
     "data": {
      "text/plain": [
       "2647218    12\n",
       "2647219    11\n",
       "2647332    11\n",
       "2647201    10\n",
       "2647205    10\n",
       "Name: acoustic_data, dtype: int16"
      ]
     },
     "execution_count": 36,
     "metadata": {},
     "output_type": "execute_result"
    }
   ],
   "source": [
    "df_temp.acoustic_data.nlargest()"
   ]
  },
  {
   "cell_type": "code",
   "execution_count": 37,
   "metadata": {},
   "outputs": [
    {
     "data": {
      "text/plain": [
       "2647209   -4\n",
       "2647326   -4\n",
       "2647260   -2\n",
       "2647261   -2\n",
       "2647212   -1\n",
       "Name: acoustic_data, dtype: int16"
      ]
     },
     "execution_count": 37,
     "metadata": {},
     "output_type": "execute_result"
    }
   ],
   "source": [
    "df_temp.acoustic_data.nsmallest()"
   ]
  },
  {
   "cell_type": "code",
   "execution_count": 38,
   "metadata": {},
   "outputs": [
    {
     "data": {
      "text/plain": [
       "acoustic_data      4.000000\n",
       "time_to_failure    0.781799\n",
       "Name: 2647265, dtype: float32"
      ]
     },
     "execution_count": 38,
     "metadata": {},
     "output_type": "execute_result"
    }
   ],
   "source": [
    "df_temp.loc[2647265]"
   ]
  },
  {
   "cell_type": "code",
   "execution_count": 39,
   "metadata": {},
   "outputs": [
    {
     "data": {
      "text/plain": [
       "137539787    5444\n",
       "137539788    5310\n",
       "137539786    5188\n",
       "186428205    5115\n",
       "186428206    4998\n",
       "Name: acoustic_data, dtype: int16"
      ]
     },
     "execution_count": 39,
     "metadata": {},
     "output_type": "execute_result"
    }
   ],
   "source": [
    "df.acoustic_data.nlargest()"
   ]
  },
  {
   "cell_type": "code",
   "execution_count": 41,
   "metadata": {},
   "outputs": [
    {
     "data": {
      "text/plain": [
       "527559523   -5515\n",
       "527559522   -5474\n",
       "527559524   -5251\n",
       "527559521   -5135\n",
       "620760349   -5008\n",
       "Name: acoustic_data, dtype: int16"
      ]
     },
     "execution_count": 41,
     "metadata": {},
     "output_type": "execute_result"
    }
   ],
   "source": [
    "df.acoustic_data.nsmallest()"
   ]
  },
  {
   "cell_type": "code",
   "execution_count": 42,
   "metadata": {},
   "outputs": [
    {
     "data": {
      "text/plain": [
       "acoustic_data      5444.0000\n",
       "time_to_failure       0.3203\n",
       "Name: 137539787, dtype: float32"
      ]
     },
     "execution_count": 42,
     "metadata": {},
     "output_type": "execute_result"
    }
   ],
   "source": [
    "df.loc[137539787, :] "
   ]
  },
  {
   "cell_type": "code",
   "execution_count": 46,
   "metadata": {},
   "outputs": [
    {
     "data": {
      "text/html": [
       "<div>\n",
       "<style scoped>\n",
       "    .dataframe tbody tr th:only-of-type {\n",
       "        vertical-align: middle;\n",
       "    }\n",
       "\n",
       "    .dataframe tbody tr th {\n",
       "        vertical-align: top;\n",
       "    }\n",
       "\n",
       "    .dataframe thead th {\n",
       "        text-align: right;\n",
       "    }\n",
       "</style>\n",
       "<table border=\"1\" class=\"dataframe\">\n",
       "  <thead>\n",
       "    <tr style=\"text-align: right;\">\n",
       "      <th></th>\n",
       "      <th>acoustic_data</th>\n",
       "      <th>time_to_failure</th>\n",
       "    </tr>\n",
       "  </thead>\n",
       "  <tbody>\n",
       "    <tr>\n",
       "      <th>527559500</th>\n",
       "      <td>-334</td>\n",
       "      <td>0.316897</td>\n",
       "    </tr>\n",
       "    <tr>\n",
       "      <th>527559501</th>\n",
       "      <td>84</td>\n",
       "      <td>0.316897</td>\n",
       "    </tr>\n",
       "    <tr>\n",
       "      <th>527559502</th>\n",
       "      <td>519</td>\n",
       "      <td>0.316897</td>\n",
       "    </tr>\n",
       "    <tr>\n",
       "      <th>527559503</th>\n",
       "      <td>897</td>\n",
       "      <td>0.316897</td>\n",
       "    </tr>\n",
       "    <tr>\n",
       "      <th>527559504</th>\n",
       "      <td>1214</td>\n",
       "      <td>0.316897</td>\n",
       "    </tr>\n",
       "    <tr>\n",
       "      <th>527559505</th>\n",
       "      <td>1485</td>\n",
       "      <td>0.316897</td>\n",
       "    </tr>\n",
       "    <tr>\n",
       "      <th>527559506</th>\n",
       "      <td>1692</td>\n",
       "      <td>0.316897</td>\n",
       "    </tr>\n",
       "    <tr>\n",
       "      <th>527559507</th>\n",
       "      <td>1823</td>\n",
       "      <td>0.316897</td>\n",
       "    </tr>\n",
       "    <tr>\n",
       "      <th>527559508</th>\n",
       "      <td>1919</td>\n",
       "      <td>0.316897</td>\n",
       "    </tr>\n",
       "    <tr>\n",
       "      <th>527559509</th>\n",
       "      <td>1944</td>\n",
       "      <td>0.316897</td>\n",
       "    </tr>\n",
       "    <tr>\n",
       "      <th>527559510</th>\n",
       "      <td>1888</td>\n",
       "      <td>0.316897</td>\n",
       "    </tr>\n",
       "    <tr>\n",
       "      <th>527559511</th>\n",
       "      <td>1748</td>\n",
       "      <td>0.316897</td>\n",
       "    </tr>\n",
       "    <tr>\n",
       "      <th>527559512</th>\n",
       "      <td>1478</td>\n",
       "      <td>0.316897</td>\n",
       "    </tr>\n",
       "    <tr>\n",
       "      <th>527559513</th>\n",
       "      <td>1078</td>\n",
       "      <td>0.316897</td>\n",
       "    </tr>\n",
       "    <tr>\n",
       "      <th>527559514</th>\n",
       "      <td>542</td>\n",
       "      <td>0.316897</td>\n",
       "    </tr>\n",
       "    <tr>\n",
       "      <th>527559515</th>\n",
       "      <td>-109</td>\n",
       "      <td>0.316897</td>\n",
       "    </tr>\n",
       "    <tr>\n",
       "      <th>527559516</th>\n",
       "      <td>-902</td>\n",
       "      <td>0.316897</td>\n",
       "    </tr>\n",
       "    <tr>\n",
       "      <th>527559517</th>\n",
       "      <td>-1823</td>\n",
       "      <td>0.316897</td>\n",
       "    </tr>\n",
       "    <tr>\n",
       "      <th>527559518</th>\n",
       "      <td>-2785</td>\n",
       "      <td>0.316897</td>\n",
       "    </tr>\n",
       "    <tr>\n",
       "      <th>527559519</th>\n",
       "      <td>-3713</td>\n",
       "      <td>0.316897</td>\n",
       "    </tr>\n",
       "    <tr>\n",
       "      <th>527559520</th>\n",
       "      <td>-4524</td>\n",
       "      <td>0.316897</td>\n",
       "    </tr>\n",
       "    <tr>\n",
       "      <th>527559521</th>\n",
       "      <td>-5135</td>\n",
       "      <td>0.316897</td>\n",
       "    </tr>\n",
       "    <tr>\n",
       "      <th>527559522</th>\n",
       "      <td>-5474</td>\n",
       "      <td>0.316897</td>\n",
       "    </tr>\n",
       "    <tr>\n",
       "      <th>527559523</th>\n",
       "      <td>-5515</td>\n",
       "      <td>0.316897</td>\n",
       "    </tr>\n",
       "    <tr>\n",
       "      <th>527559524</th>\n",
       "      <td>-5251</td>\n",
       "      <td>0.316897</td>\n",
       "    </tr>\n",
       "    <tr>\n",
       "      <th>527559525</th>\n",
       "      <td>-4685</td>\n",
       "      <td>0.316897</td>\n",
       "    </tr>\n",
       "    <tr>\n",
       "      <th>527559526</th>\n",
       "      <td>-3862</td>\n",
       "      <td>0.316897</td>\n",
       "    </tr>\n",
       "    <tr>\n",
       "      <th>527559527</th>\n",
       "      <td>-2857</td>\n",
       "      <td>0.316897</td>\n",
       "    </tr>\n",
       "    <tr>\n",
       "      <th>527559528</th>\n",
       "      <td>-1737</td>\n",
       "      <td>0.316897</td>\n",
       "    </tr>\n",
       "    <tr>\n",
       "      <th>527559529</th>\n",
       "      <td>-533</td>\n",
       "      <td>0.316897</td>\n",
       "    </tr>\n",
       "    <tr>\n",
       "      <th>527559530</th>\n",
       "      <td>599</td>\n",
       "      <td>0.316897</td>\n",
       "    </tr>\n",
       "    <tr>\n",
       "      <th>527559531</th>\n",
       "      <td>1560</td>\n",
       "      <td>0.316897</td>\n",
       "    </tr>\n",
       "    <tr>\n",
       "      <th>527559532</th>\n",
       "      <td>2271</td>\n",
       "      <td>0.316897</td>\n",
       "    </tr>\n",
       "    <tr>\n",
       "      <th>527559533</th>\n",
       "      <td>2664</td>\n",
       "      <td>0.316897</td>\n",
       "    </tr>\n",
       "    <tr>\n",
       "      <th>527559534</th>\n",
       "      <td>2754</td>\n",
       "      <td>0.316897</td>\n",
       "    </tr>\n",
       "    <tr>\n",
       "      <th>527559535</th>\n",
       "      <td>2559</td>\n",
       "      <td>0.316897</td>\n",
       "    </tr>\n",
       "    <tr>\n",
       "      <th>527559536</th>\n",
       "      <td>2141</td>\n",
       "      <td>0.316897</td>\n",
       "    </tr>\n",
       "    <tr>\n",
       "      <th>527559537</th>\n",
       "      <td>1588</td>\n",
       "      <td>0.316897</td>\n",
       "    </tr>\n",
       "    <tr>\n",
       "      <th>527559538</th>\n",
       "      <td>996</td>\n",
       "      <td>0.316897</td>\n",
       "    </tr>\n",
       "    <tr>\n",
       "      <th>527559539</th>\n",
       "      <td>505</td>\n",
       "      <td>0.316897</td>\n",
       "    </tr>\n",
       "    <tr>\n",
       "      <th>527559540</th>\n",
       "      <td>228</td>\n",
       "      <td>0.316897</td>\n",
       "    </tr>\n",
       "    <tr>\n",
       "      <th>527559541</th>\n",
       "      <td>190</td>\n",
       "      <td>0.316897</td>\n",
       "    </tr>\n",
       "    <tr>\n",
       "      <th>527559542</th>\n",
       "      <td>367</td>\n",
       "      <td>0.316897</td>\n",
       "    </tr>\n",
       "    <tr>\n",
       "      <th>527559543</th>\n",
       "      <td>736</td>\n",
       "      <td>0.316897</td>\n",
       "    </tr>\n",
       "    <tr>\n",
       "      <th>527559544</th>\n",
       "      <td>1194</td>\n",
       "      <td>0.316897</td>\n",
       "    </tr>\n",
       "    <tr>\n",
       "      <th>527559545</th>\n",
       "      <td>1664</td>\n",
       "      <td>0.316897</td>\n",
       "    </tr>\n",
       "    <tr>\n",
       "      <th>527559546</th>\n",
       "      <td>2067</td>\n",
       "      <td>0.316897</td>\n",
       "    </tr>\n",
       "    <tr>\n",
       "      <th>527559547</th>\n",
       "      <td>2285</td>\n",
       "      <td>0.316897</td>\n",
       "    </tr>\n",
       "    <tr>\n",
       "      <th>527559548</th>\n",
       "      <td>2272</td>\n",
       "      <td>0.316897</td>\n",
       "    </tr>\n",
       "    <tr>\n",
       "      <th>527559549</th>\n",
       "      <td>2013</td>\n",
       "      <td>0.316897</td>\n",
       "    </tr>\n",
       "    <tr>\n",
       "      <th>527559550</th>\n",
       "      <td>1530</td>\n",
       "      <td>0.316897</td>\n",
       "    </tr>\n",
       "  </tbody>\n",
       "</table>\n",
       "</div>"
      ],
      "text/plain": [
       "           acoustic_data  time_to_failure\n",
       "527559500           -334         0.316897\n",
       "527559501             84         0.316897\n",
       "527559502            519         0.316897\n",
       "527559503            897         0.316897\n",
       "527559504           1214         0.316897\n",
       "527559505           1485         0.316897\n",
       "527559506           1692         0.316897\n",
       "527559507           1823         0.316897\n",
       "527559508           1919         0.316897\n",
       "527559509           1944         0.316897\n",
       "527559510           1888         0.316897\n",
       "527559511           1748         0.316897\n",
       "527559512           1478         0.316897\n",
       "527559513           1078         0.316897\n",
       "527559514            542         0.316897\n",
       "527559515           -109         0.316897\n",
       "527559516           -902         0.316897\n",
       "527559517          -1823         0.316897\n",
       "527559518          -2785         0.316897\n",
       "527559519          -3713         0.316897\n",
       "527559520          -4524         0.316897\n",
       "527559521          -5135         0.316897\n",
       "527559522          -5474         0.316897\n",
       "527559523          -5515         0.316897\n",
       "527559524          -5251         0.316897\n",
       "527559525          -4685         0.316897\n",
       "527559526          -3862         0.316897\n",
       "527559527          -2857         0.316897\n",
       "527559528          -1737         0.316897\n",
       "527559529           -533         0.316897\n",
       "527559530            599         0.316897\n",
       "527559531           1560         0.316897\n",
       "527559532           2271         0.316897\n",
       "527559533           2664         0.316897\n",
       "527559534           2754         0.316897\n",
       "527559535           2559         0.316897\n",
       "527559536           2141         0.316897\n",
       "527559537           1588         0.316897\n",
       "527559538            996         0.316897\n",
       "527559539            505         0.316897\n",
       "527559540            228         0.316897\n",
       "527559541            190         0.316897\n",
       "527559542            367         0.316897\n",
       "527559543            736         0.316897\n",
       "527559544           1194         0.316897\n",
       "527559545           1664         0.316897\n",
       "527559546           2067         0.316897\n",
       "527559547           2285         0.316897\n",
       "527559548           2272         0.316897\n",
       "527559549           2013         0.316897\n",
       "527559550           1530         0.316897"
      ]
     },
     "execution_count": 46,
     "metadata": {},
     "output_type": "execute_result"
    }
   ],
   "source": [
    "df.loc[527559500 : 527559550]"
   ]
  },
  {
   "cell_type": "code",
   "execution_count": 47,
   "metadata": {},
   "outputs": [
    {
     "data": {
      "text/html": [
       "<div>\n",
       "<style scoped>\n",
       "    .dataframe tbody tr th:only-of-type {\n",
       "        vertical-align: middle;\n",
       "    }\n",
       "\n",
       "    .dataframe tbody tr th {\n",
       "        vertical-align: top;\n",
       "    }\n",
       "\n",
       "    .dataframe thead th {\n",
       "        text-align: right;\n",
       "    }\n",
       "</style>\n",
       "<table border=\"1\" class=\"dataframe\">\n",
       "  <thead>\n",
       "    <tr style=\"text-align: right;\">\n",
       "      <th></th>\n",
       "      <th>acoustic_data</th>\n",
       "      <th>time_to_failure</th>\n",
       "    </tr>\n",
       "  </thead>\n",
       "  <tbody>\n",
       "    <tr>\n",
       "      <th>527559550</th>\n",
       "      <td>1530</td>\n",
       "      <td>0.316897</td>\n",
       "    </tr>\n",
       "    <tr>\n",
       "      <th>527559551</th>\n",
       "      <td>962</td>\n",
       "      <td>0.316897</td>\n",
       "    </tr>\n",
       "    <tr>\n",
       "      <th>527559552</th>\n",
       "      <td>431</td>\n",
       "      <td>0.316897</td>\n",
       "    </tr>\n",
       "    <tr>\n",
       "      <th>527559553</th>\n",
       "      <td>82</td>\n",
       "      <td>0.316897</td>\n",
       "    </tr>\n",
       "    <tr>\n",
       "      <th>527559554</th>\n",
       "      <td>59</td>\n",
       "      <td>0.316897</td>\n",
       "    </tr>\n",
       "    <tr>\n",
       "      <th>527559555</th>\n",
       "      <td>360</td>\n",
       "      <td>0.316897</td>\n",
       "    </tr>\n",
       "    <tr>\n",
       "      <th>527559556</th>\n",
       "      <td>863</td>\n",
       "      <td>0.316897</td>\n",
       "    </tr>\n",
       "    <tr>\n",
       "      <th>527559557</th>\n",
       "      <td>1419</td>\n",
       "      <td>0.316897</td>\n",
       "    </tr>\n",
       "    <tr>\n",
       "      <th>527559558</th>\n",
       "      <td>1851</td>\n",
       "      <td>0.316897</td>\n",
       "    </tr>\n",
       "    <tr>\n",
       "      <th>527559559</th>\n",
       "      <td>2087</td>\n",
       "      <td>0.316897</td>\n",
       "    </tr>\n",
       "    <tr>\n",
       "      <th>527559560</th>\n",
       "      <td>2160</td>\n",
       "      <td>0.316897</td>\n",
       "    </tr>\n",
       "    <tr>\n",
       "      <th>527559561</th>\n",
       "      <td>2073</td>\n",
       "      <td>0.316897</td>\n",
       "    </tr>\n",
       "    <tr>\n",
       "      <th>527559562</th>\n",
       "      <td>1825</td>\n",
       "      <td>0.316897</td>\n",
       "    </tr>\n",
       "    <tr>\n",
       "      <th>527559563</th>\n",
       "      <td>1450</td>\n",
       "      <td>0.316897</td>\n",
       "    </tr>\n",
       "    <tr>\n",
       "      <th>527559564</th>\n",
       "      <td>967</td>\n",
       "      <td>0.316897</td>\n",
       "    </tr>\n",
       "    <tr>\n",
       "      <th>527559565</th>\n",
       "      <td>425</td>\n",
       "      <td>0.316897</td>\n",
       "    </tr>\n",
       "    <tr>\n",
       "      <th>527559566</th>\n",
       "      <td>-125</td>\n",
       "      <td>0.316897</td>\n",
       "    </tr>\n",
       "    <tr>\n",
       "      <th>527559567</th>\n",
       "      <td>-647</td>\n",
       "      <td>0.316897</td>\n",
       "    </tr>\n",
       "    <tr>\n",
       "      <th>527559568</th>\n",
       "      <td>-1076</td>\n",
       "      <td>0.316897</td>\n",
       "    </tr>\n",
       "    <tr>\n",
       "      <th>527559569</th>\n",
       "      <td>-1410</td>\n",
       "      <td>0.316897</td>\n",
       "    </tr>\n",
       "    <tr>\n",
       "      <th>527559570</th>\n",
       "      <td>-1610</td>\n",
       "      <td>0.316897</td>\n",
       "    </tr>\n",
       "    <tr>\n",
       "      <th>527559571</th>\n",
       "      <td>-1683</td>\n",
       "      <td>0.316897</td>\n",
       "    </tr>\n",
       "    <tr>\n",
       "      <th>527559572</th>\n",
       "      <td>-1668</td>\n",
       "      <td>0.316897</td>\n",
       "    </tr>\n",
       "    <tr>\n",
       "      <th>527559573</th>\n",
       "      <td>-1550</td>\n",
       "      <td>0.316897</td>\n",
       "    </tr>\n",
       "    <tr>\n",
       "      <th>527559574</th>\n",
       "      <td>-1340</td>\n",
       "      <td>0.316897</td>\n",
       "    </tr>\n",
       "    <tr>\n",
       "      <th>527559575</th>\n",
       "      <td>-1082</td>\n",
       "      <td>0.316897</td>\n",
       "    </tr>\n",
       "    <tr>\n",
       "      <th>527559576</th>\n",
       "      <td>-810</td>\n",
       "      <td>0.316897</td>\n",
       "    </tr>\n",
       "    <tr>\n",
       "      <th>527559577</th>\n",
       "      <td>-548</td>\n",
       "      <td>0.316897</td>\n",
       "    </tr>\n",
       "    <tr>\n",
       "      <th>527559578</th>\n",
       "      <td>-347</td>\n",
       "      <td>0.316897</td>\n",
       "    </tr>\n",
       "    <tr>\n",
       "      <th>527559579</th>\n",
       "      <td>-198</td>\n",
       "      <td>0.316897</td>\n",
       "    </tr>\n",
       "    <tr>\n",
       "      <th>527559580</th>\n",
       "      <td>-78</td>\n",
       "      <td>0.316897</td>\n",
       "    </tr>\n",
       "    <tr>\n",
       "      <th>527559581</th>\n",
       "      <td>10</td>\n",
       "      <td>0.316897</td>\n",
       "    </tr>\n",
       "    <tr>\n",
       "      <th>527559582</th>\n",
       "      <td>62</td>\n",
       "      <td>0.316897</td>\n",
       "    </tr>\n",
       "    <tr>\n",
       "      <th>527559583</th>\n",
       "      <td>102</td>\n",
       "      <td>0.316897</td>\n",
       "    </tr>\n",
       "    <tr>\n",
       "      <th>527559584</th>\n",
       "      <td>146</td>\n",
       "      <td>0.316897</td>\n",
       "    </tr>\n",
       "    <tr>\n",
       "      <th>527559585</th>\n",
       "      <td>180</td>\n",
       "      <td>0.316897</td>\n",
       "    </tr>\n",
       "    <tr>\n",
       "      <th>527559586</th>\n",
       "      <td>170</td>\n",
       "      <td>0.316897</td>\n",
       "    </tr>\n",
       "    <tr>\n",
       "      <th>527559587</th>\n",
       "      <td>130</td>\n",
       "      <td>0.316897</td>\n",
       "    </tr>\n",
       "    <tr>\n",
       "      <th>527559588</th>\n",
       "      <td>48</td>\n",
       "      <td>0.316897</td>\n",
       "    </tr>\n",
       "    <tr>\n",
       "      <th>527559589</th>\n",
       "      <td>-105</td>\n",
       "      <td>0.316897</td>\n",
       "    </tr>\n",
       "    <tr>\n",
       "      <th>527559590</th>\n",
       "      <td>-259</td>\n",
       "      <td>0.316897</td>\n",
       "    </tr>\n",
       "    <tr>\n",
       "      <th>527559591</th>\n",
       "      <td>-393</td>\n",
       "      <td>0.316897</td>\n",
       "    </tr>\n",
       "    <tr>\n",
       "      <th>527559592</th>\n",
       "      <td>-473</td>\n",
       "      <td>0.316897</td>\n",
       "    </tr>\n",
       "    <tr>\n",
       "      <th>527559593</th>\n",
       "      <td>-451</td>\n",
       "      <td>0.316897</td>\n",
       "    </tr>\n",
       "    <tr>\n",
       "      <th>527559594</th>\n",
       "      <td>-349</td>\n",
       "      <td>0.316897</td>\n",
       "    </tr>\n",
       "    <tr>\n",
       "      <th>527559595</th>\n",
       "      <td>-180</td>\n",
       "      <td>0.316897</td>\n",
       "    </tr>\n",
       "    <tr>\n",
       "      <th>527559596</th>\n",
       "      <td>20</td>\n",
       "      <td>0.316897</td>\n",
       "    </tr>\n",
       "    <tr>\n",
       "      <th>527559597</th>\n",
       "      <td>197</td>\n",
       "      <td>0.316897</td>\n",
       "    </tr>\n",
       "    <tr>\n",
       "      <th>527559598</th>\n",
       "      <td>305</td>\n",
       "      <td>0.316897</td>\n",
       "    </tr>\n",
       "    <tr>\n",
       "      <th>527559599</th>\n",
       "      <td>319</td>\n",
       "      <td>0.316897</td>\n",
       "    </tr>\n",
       "    <tr>\n",
       "      <th>527559600</th>\n",
       "      <td>300</td>\n",
       "      <td>0.316897</td>\n",
       "    </tr>\n",
       "  </tbody>\n",
       "</table>\n",
       "</div>"
      ],
      "text/plain": [
       "           acoustic_data  time_to_failure\n",
       "527559550           1530         0.316897\n",
       "527559551            962         0.316897\n",
       "527559552            431         0.316897\n",
       "527559553             82         0.316897\n",
       "527559554             59         0.316897\n",
       "527559555            360         0.316897\n",
       "527559556            863         0.316897\n",
       "527559557           1419         0.316897\n",
       "527559558           1851         0.316897\n",
       "527559559           2087         0.316897\n",
       "527559560           2160         0.316897\n",
       "527559561           2073         0.316897\n",
       "527559562           1825         0.316897\n",
       "527559563           1450         0.316897\n",
       "527559564            967         0.316897\n",
       "527559565            425         0.316897\n",
       "527559566           -125         0.316897\n",
       "527559567           -647         0.316897\n",
       "527559568          -1076         0.316897\n",
       "527559569          -1410         0.316897\n",
       "527559570          -1610         0.316897\n",
       "527559571          -1683         0.316897\n",
       "527559572          -1668         0.316897\n",
       "527559573          -1550         0.316897\n",
       "527559574          -1340         0.316897\n",
       "527559575          -1082         0.316897\n",
       "527559576           -810         0.316897\n",
       "527559577           -548         0.316897\n",
       "527559578           -347         0.316897\n",
       "527559579           -198         0.316897\n",
       "527559580            -78         0.316897\n",
       "527559581             10         0.316897\n",
       "527559582             62         0.316897\n",
       "527559583            102         0.316897\n",
       "527559584            146         0.316897\n",
       "527559585            180         0.316897\n",
       "527559586            170         0.316897\n",
       "527559587            130         0.316897\n",
       "527559588             48         0.316897\n",
       "527559589           -105         0.316897\n",
       "527559590           -259         0.316897\n",
       "527559591           -393         0.316897\n",
       "527559592           -473         0.316897\n",
       "527559593           -451         0.316897\n",
       "527559594           -349         0.316897\n",
       "527559595           -180         0.316897\n",
       "527559596             20         0.316897\n",
       "527559597            197         0.316897\n",
       "527559598            305         0.316897\n",
       "527559599            319         0.316897\n",
       "527559600            300         0.316897"
      ]
     },
     "execution_count": 47,
     "metadata": {},
     "output_type": "execute_result"
    }
   ],
   "source": [
    "df.loc[527559550 : 527559600]"
   ]
  },
  {
   "cell_type": "code",
   "execution_count": 49,
   "metadata": {},
   "outputs": [],
   "source": [
    "aaa = df.time_to_failure.unique()"
   ]
  },
  {
   "cell_type": "code",
   "execution_count": 50,
   "metadata": {},
   "outputs": [
    {
     "data": {
      "text/plain": [
       "(3340667,)"
      ]
     },
     "execution_count": 50,
     "metadata": {},
     "output_type": "execute_result"
    }
   ],
   "source": [
    "aaa.shape"
   ]
  },
  {
   "cell_type": "code",
   "execution_count": 51,
   "metadata": {},
   "outputs": [],
   "source": [
    "vvv = df.time_to_failure.value_counts()"
   ]
  },
  {
   "cell_type": "code",
   "execution_count": 52,
   "metadata": {},
   "outputs": [
    {
     "data": {
      "text/plain": [
       "(3340667,)"
      ]
     },
     "execution_count": 52,
     "metadata": {},
     "output_type": "execute_result"
    }
   ],
   "source": [
    "vvv.shape"
   ]
  },
  {
   "cell_type": "code",
   "execution_count": 53,
   "metadata": {},
   "outputs": [
    {
     "data": {
      "text/plain": [
       "9.295698    3468\n",
       "8.155098    3468\n",
       "8.376399    3468\n",
       "9.026498    3468\n",
       "8.016198    3468\n",
       "Name: time_to_failure, dtype: int64"
      ]
     },
     "execution_count": 53,
     "metadata": {},
     "output_type": "execute_result"
    }
   ],
   "source": [
    "vvv.head()"
   ]
  },
  {
   "cell_type": "code",
   "execution_count": 57,
   "metadata": {},
   "outputs": [
    {
     "data": {
      "text/plain": [
       "Float64Index([   9.295698165893555,    8.155097961425781,    8.376399040222168,\n",
       "                 9.026497840881348,     8.01619815826416,      8.7402982711792,\n",
       "                 9.325496673583984,     9.36379623413086,    8.725398063659668,\n",
       "                 9.363798141479492,\n",
       "              ...\n",
       "              0.010897453874349594, 0.010897334665060043,   0.0108974389731884,\n",
       "              0.010897364467382431,  0.01089734211564064, 0.010897386819124222,\n",
       "              0.010897379368543625, 0.010897304862737656, 0.010897289961576462,\n",
       "              0.010397449135780334],\n",
       "             dtype='float64', length=3340667)"
      ]
     },
     "execution_count": 57,
     "metadata": {},
     "output_type": "execute_result"
    }
   ],
   "source": [
    "vvv.index"
   ]
  },
  {
   "cell_type": "code",
   "execution_count": null,
   "metadata": {},
   "outputs": [],
   "source": []
  }
 ],
 "metadata": {
  "kernelspec": {
   "display_name": "Python 3",
   "language": "python",
   "name": "python3"
  },
  "language_info": {
   "codemirror_mode": {
    "name": "ipython",
    "version": 3
   },
   "file_extension": ".py",
   "mimetype": "text/x-python",
   "name": "python",
   "nbconvert_exporter": "python",
   "pygments_lexer": "ipython3",
   "version": "3.7.3"
  }
 },
 "nbformat": 4,
 "nbformat_minor": 2
}
